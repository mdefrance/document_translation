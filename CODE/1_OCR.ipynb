{
 "cells": [
  {
   "cell_type": "markdown",
   "metadata": {},
   "source": [
    "# Objectives\n",
    "\n",
    "1. Applying Mindee's docTR Optical Character Recognition (OCR) to collect multiple PDFs' texts.\n",
    "\n",
    "2. Translating those texts using Meta AI's M2M-100.\n",
    "\n",
    "3. Building translated PDF/A documents (searchable PDFs).\n",
    "\n",
    "# Code\n",
    "\n",
    "## From .pdf to RGB arrays"
   ]
  },
  {
   "cell_type": "markdown",
   "metadata": {},
   "source": [
    "Getting list of all files"
   ]
  },
  {
   "cell_type": "code",
   "execution_count": 10,
   "metadata": {},
   "outputs": [],
   "source": [
    "import os\n",
    "\n",
    "# paths where data is stored\n",
    "PDF_PATH = '../DATA/'\n",
    "PDFA_PATH = '../DATA/PDFA/'\n",
    "WORK_PATH = '../WORK/'\n",
    "\n",
    "# list of PDF files\n",
    "files = ['.'.join(f.split('.')[:-1]) for f in os.listdir(PDF_PATH) if f.endswith('.pdf')] "
   ]
  },
  {
   "cell_type": "markdown",
   "metadata": {},
   "source": [
    "Adding toolkits to the path"
   ]
  },
  {
   "cell_type": "code",
   "execution_count": 2,
   "metadata": {},
   "outputs": [],
   "source": [
    "import sys\n",
    "\n",
    "sys.path.append('../packages/')"
   ]
  },
  {
   "cell_type": "markdown",
   "metadata": {},
   "source": [
    "Converting to RGB numpy arrays:\n",
    "* Scaling (zoom)\n",
    "* Gray scaling\n",
    "* Deskewing"
   ]
  },
  {
   "cell_type": "code",
   "execution_count": 18,
   "metadata": {},
   "outputs": [
    {
     "data": {
      "application/vnd.jupyter.widget-view+json": {
       "model_id": "2028cb55f28348138809e168e6b713da",
       "version_major": 2,
       "version_minor": 0
      },
      "text/plain": [
       "  0%|          | 0/3 [00:00<?, ?it/s]"
      ]
     },
     "metadata": {},
     "output_type": "display_data"
    },
    {
     "name": "stdout",
     "output_type": "stream",
     "text": [
      "func:'pdf_to_array' took: 21.8331 sec\n",
      "func:'pdf_to_array' took: 7.2664 sec\n",
      "func:'pdf_to_array' took: 17.1023 sec\n"
     ]
    }
   ],
   "source": [
    "import pickle\n",
    "\n",
    "from tqdm.notebook import tqdm\n",
    "from ocr_toolkit import pdf_to_array\n",
    "\n",
    "# scaling parameter to be applied to original PDF files\n",
    "zooming = 3 \n",
    "\n",
    "# iteration over each PDF file\n",
    "for file in tqdm(files):\n",
    "\n",
    "    # getting array of RGB values from pdf file (rotated for straight pages)\n",
    "    docs = pdf_to_array(PDF_PATH, file+'.pdf', zooming=zooming)\n",
    "    pickle.dump(docs, open(f'{WORK_PATH+file}_array.pkl','wb'))\n",
    "    # docs = pickle.load(open(f'{WORK_PATH+file}_array.pkl','rb'))"
   ]
  },
  {
   "cell_type": "markdown",
   "metadata": {},
   "source": [
    "## Applying OCR"
   ]
  },
  {
   "cell_type": "markdown",
   "metadata": {},
   "source": [
    "* Optical Character Recognition with mindee's docTR:\n",
    "\n",
    "https://mindee.github.io/doctr/"
   ]
  },
  {
   "cell_type": "code",
   "execution_count": null,
   "metadata": {},
   "outputs": [
    {
     "name": "stderr",
     "output_type": "stream",
     "text": [
      "C:\\ProgramData\\Miniconda3\\envs\\doctr\\lib\\site-packages\\tensorflow_addons\\utils\\ensure_tf_install.py:53: UserWarning: Tensorflow Addons supports using Python ops for all Tensorflow versions above or equal to 2.7.0 and strictly below 2.10.0 (nightly versions are not supported). \n",
      " The versions of TensorFlow you are currently using is 2.6.5 and is not supported. \n",
      "Some things might work, some things might not.\n",
      "If you were to encounter a bug, do not file an issue.\n",
      "If you want to make sure you're using a tested and supported configuration, either change the TensorFlow version or the TensorFlow Addons's version. \n",
      "You can find the compatibility matrix in TensorFlow Addon's readme:\n",
      "https://github.com/tensorflow/addons\n",
      "  warnings.warn(\n",
      "\n"
     ]
    }
   ],
   "source": [
    "import pickle\n",
    "\n",
    "from doctr.models import ocr_predictor\n",
    "from ocr_toolkit import array_to_ocr_xml\n",
    "\n",
    "# docTR pretrained models for rotated text \n",
    "# model = ocr_predictor(\n",
    "#     det_arch='linknet_resnet18_rotation', reco_arch='crnn_vgg16_bn', pretrained=True, \n",
    "#     assume_straight_pages=False, export_as_straight_boxes=True)\n",
    "\n",
    "# docTR pretrained models for straight text\n",
    "model = ocr_predictor(\n",
    "    det_arch='db_resnet50', reco_arch='crnn_vgg16_bn', pretrained=True, \n",
    "    assume_straight_pages=True, export_as_straight_boxes=True)\n",
    "\n",
    "# ocr of the pdf file\n",
    "xml_outputs = array_to_ocr_xml(docs, model)\n",
    "pickle.dump(xml_outputs, open(f'{WORK_PATH+file}_xml_outputs.pkl','wb'))\n",
    "# xml_outputs = pickle.load(open(f'{WORK_PATH+file}_xml_outputs.pkl', 'rb'))"
   ]
  },
  {
   "cell_type": "markdown",
   "metadata": {},
   "source": [
    "Converting to PDFA file"
   ]
  },
  {
   "cell_type": "code",
   "execution_count": 194,
   "metadata": {},
   "outputs": [
    {
     "name": "stdout",
     "output_type": "stream",
     "text": [
      "func:'xml_to_pdfa' took: 8.2860 sec\n"
     ]
    }
   ],
   "source": [
    "from ocr_toolkit import xml_to_pdfa\n",
    "\n",
    "# building text and adding it to the original PDF file (image)\n",
    "pdfa_dict = xml_to_pdfa(PDFA_PATH, file+, docs, xml_outputs)\n",
    "pickle.dump(pdfa_dict, open(f'{WORK_PATH+file}_dict.pkl','wb'))\n",
    "# pdfa_dict = pickle.load(open(f'{WORK_PATH+file}_dict.pkl','rb'))"
   ]
  }
 ],
 "metadata": {
  "kernelspec": {
   "display_name": "Python 3",
   "language": "python",
   "name": "python3"
  },
  "language_info": {
   "codemirror_mode": {
    "name": "ipython",
    "version": 3
   },
   "file_extension": ".py",
   "mimetype": "text/x-python",
   "name": "python",
   "nbconvert_exporter": "python",
   "pygments_lexer": "ipython3",
   "version": "3.7.3"
  }
 },
 "nbformat": 4,
 "nbformat_minor": 4
}
